{
 "cells": [
  {
   "cell_type": "code",
   "execution_count": 4,
   "id": "2eba5b18",
   "metadata": {},
   "outputs": [
    {
     "name": "stdout",
     "output_type": "stream",
     "text": [
      "\n",
      "✅ Document successfully processed!\n",
      "\n"
     ]
    }
   ],
   "source": [
    "import os\n",
    "\n",
    "pdf_path = r\"{}\".format(input(\"Enter the path of the PDF file: \").strip())\n",
    "# pdf_path = r\"C:\\Datasets\\PDF-Courseware-Sample\\S05 Information_Extraction_3pages.pdf\"\n",
    "\n",
    "if os.path.exists(pdf_path) and pdf_path.endswith(\".pdf\"):\n",
    "    print(\"\\n✅ Document successfully processed!\\n\")\n",
    "else:\n",
    "    print(\"⚠️ Invalid file path or format. Please provide a valid PDF.\")"
   ]
  },
  {
   "cell_type": "code",
   "execution_count": null,
   "id": "163f35fb",
   "metadata": {},
   "outputs": [],
   "source": []
  }
 ],
 "metadata": {
  "kernelspec": {
   "display_name": "Python 3",
   "language": "python",
   "name": "python3"
  },
  "language_info": {
   "codemirror_mode": {
    "name": "ipython",
    "version": 3
   },
   "file_extension": ".py",
   "mimetype": "text/x-python",
   "name": "python",
   "nbconvert_exporter": "python",
   "pygments_lexer": "ipython3",
   "version": "3.12.2"
  }
 },
 "nbformat": 4,
 "nbformat_minor": 5
}
